{
 "cells": [
  {
   "cell_type": "code",
   "execution_count": 3,
   "id": "5f19d98c",
   "metadata": {},
   "outputs": [],
   "source": [
    "import pandas as pd\n",
    "\n",
    "# Load the file with two columns of product IDs\n",
    "main_df = pd.read_csv('test_HW2.csv', encoding='ISO-8859-1')\n",
    "\n",
    "# Load the other files with product details\n",
    "detail_df1 = pd.read_csv('ltable.csv', encoding='ISO-8859-1')\n",
    "detail_df2 = pd.read_csv('rtable.csv', encoding='ISO-8859-1')\n",
    "\n",
    "# Merge main_df with detail_df1 and detail_df2 on the product ID columns\n",
    "merged_df1 = main_df.merge(detail_df1, how='left', left_on='ltable_id', right_on='ltable_id')\n",
    "merged_df2 = merged_df1.merge(detail_df2, how='left', left_on='rtable_id', right_on='rtable_id')\n",
    "\n",
    "# Save the result to a new Excel file\n",
    "# merged_df2.to_excel('merged_file.xlsx', index=False)"
   ]
  },
  {
   "cell_type": "code",
   "execution_count": 5,
   "id": "1a1cde8d",
   "metadata": {},
   "outputs": [
    {
     "name": "stdout",
     "output_type": "stream",
     "text": [
      "      Unnamed: 0  ltable_id  rtable_id    id  \\\n",
      "0              0       1853       2139     0   \n",
      "1              1       1718      11835     8   \n",
      "2              2       1624       5013     9   \n",
      "3              3        614       5969    10   \n",
      "4              4       1512      19684    15   \n",
      "...          ...        ...        ...   ...   \n",
      "2495        2495        326      11440  8166   \n",
      "2496        2496       1270       7313  8168   \n",
      "2497        2497       1167       8422  8171   \n",
      "2498        2498       1405      10251  8174   \n",
      "2499        2499       1429       8593  8175   \n",
      "\n",
      "                                                title_x  \\\n",
      "0                      sony 16gb class 4 sd memory card   \n",
      "1        kodak esp 3250 all-in-one printer value bundle   \n",
      "2                          hp q3675a image transfer kit   \n",
      "3            atrend-bbox a361-12cp b box series speaker   \n",
      "4     uniden d1680 dect 6.0 with caller id and call ...   \n",
      "...                                                 ...   \n",
      "2495  startech.com st122le 2 port vga video splitter...   \n",
      "2496  verbatim 8.5 gb 2.4 x - 6x dvd r dl 10 packs d...   \n",
      "2497  action sport drives 4gb santa cruz usb snow dr...   \n",
      "2498                  ibm 28p2010 black toner cartridge   \n",
      "2499  coolmax 3.5 usb 3.0 external hard drive enclos...   \n",
      "\n",
      "                 category_x    brand_x     modelno_x  price_x  \\\n",
      "0                usb drives       sony    sf16n4/tqp     0.00   \n",
      "1                  printers        NaN           NaN    58.00   \n",
      "2                  printers         hp        q3675a   194.84   \n",
      "3               car stereos     atrend     a361-12cp    56.88   \n",
      "4     electronics - general     uniden         d1680    33.84   \n",
      "...                     ...        ...           ...      ...   \n",
      "2495  electronics - general   startech       st122le    32.88   \n",
      "2496        mp3 accessories   verbatim         95166    17.32   \n",
      "2497             usb drives  ep memory  sc-snowsp/4g    10.84   \n",
      "2498               printers        ibm       28p2010   425.00   \n",
      "2499  electronics - general    coolmax   hd-381bz-u3    26.88   \n",
      "\n",
      "                                                title_y  \\\n",
      "0                          pny 4gb class 4 navy sd card   \n",
      "1                        kodak esp 7 all-in-one printer   \n",
      "2     hewlett packard q3675a image transfer kit for ...   \n",
      "3     atrend-bbox a362-12cp b box series dual speake...   \n",
      "4     new-uniden d1660 dect 6.0 cordless phone syste...   \n",
      "...                                                 ...   \n",
      "2495  startech.com dvispl1vv 1 feet dvi-i analog to ...   \n",
      "2496  verbatim 95014 8.5 gb 2.4x-6x double layer rec...   \n",
      "2497    action sports 4gb santa cruz surfdrive - archie   \n",
      "2498               brother black toner cartridge tn-350   \n",
      "2499  cavalry usb 2.0 2.5-inch portable external har...   \n",
      "\n",
      "                 category_y      brand_y            modelno_y  price_y  \n",
      "0           car audio video          pny  p-sdhc4g4-ef / navy    11.18  \n",
      "1       all-in-one printers        kodak              1252972   149.29  \n",
      "2           cleaning repair           hp               q3675a      NaN  \n",
      "3          coaxial speakers  atrend-bbox            a362-12cp    88.85  \n",
      "4       cordless telephones       uniden                  NaN    24.09  \n",
      "...                     ...          ...                  ...      ...  \n",
      "2495    connectors adapters     startech            dvispl1vv    14.57  \n",
      "2496            dvd r discs     verbatim                95014     7.71  \n",
      "2497       usb flash drives         dane                  NaN    11.50  \n",
      "2498    laser printer toner      brother                tn350    43.99  \n",
      "2499  computers accessories      cavalry            en-caug-p    15.99  \n",
      "\n",
      "[2500 rows x 14 columns]\n"
     ]
    }
   ],
   "source": [
    "print(merged_df2)\n",
    "merged_df2.to_csv('output_file.csv', index=False)"
   ]
  },
  {
   "cell_type": "code",
   "execution_count": null,
   "id": "8a61c9cc",
   "metadata": {},
   "outputs": [],
   "source": []
  }
 ],
 "metadata": {
  "kernelspec": {
   "display_name": "Python 3 (ipykernel)",
   "language": "python",
   "name": "python3"
  },
  "language_info": {
   "codemirror_mode": {
    "name": "ipython",
    "version": 3
   },
   "file_extension": ".py",
   "mimetype": "text/x-python",
   "name": "python",
   "nbconvert_exporter": "python",
   "pygments_lexer": "ipython3",
   "version": "3.9.12"
  }
 },
 "nbformat": 4,
 "nbformat_minor": 5
}
