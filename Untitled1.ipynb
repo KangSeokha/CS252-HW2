{
 "cells": [
  {
   "cell_type": "code",
   "execution_count": 17,
   "id": "967fd26f",
   "metadata": {},
   "outputs": [],
   "source": [
    "import pandas as pd\n",
    "from sklearn.feature_extraction.text import TfidfVectorizer\n",
    "from sklearn.metrics.pairwise import cosine_similarity\n",
    "from sklearn.ensemble import RandomForestClassifier"
   ]
  },
  {
   "cell_type": "code",
   "execution_count": 18,
   "id": "297a5ac9",
   "metadata": {},
   "outputs": [],
   "source": [
    "# Step 1: Load the Data\n",
    "ltable = pd.read_csv('ltable.csv', encoding='ISO-8859-1')\n",
    "rtable = pd.read_csv('rtable.csv', encoding='ISO-8859-1')\n",
    "train_data = pd.read_csv('train.csv', encoding='ISO-8859-1')\n",
    "test_data = pd.read_csv('test_HW2.csv', encoding='ISO-8859-1')\n",
    "\n",
    "# Step 2: Preprocess the Data\n",
    "def preprocess_text(text):\n",
    "    if isinstance(text, str):\n",
    "        return text.lower().strip()\n",
    "    return \"\"\n",
    "\n",
    "ltable['title'] = ltable['title'].apply(preprocess_text)\n",
    "rtable['title'] = rtable['title'].apply(preprocess_text)\n",
    "ltable['category'] = ltable['category'].apply(preprocess_text)\n",
    "rtable['category'] = rtable['category'].apply(preprocess_text)\n",
    "ltable['brand'] = ltable['brand'].apply(preprocess_text)\n",
    "rtable['brand'] = rtable['brand'].apply(preprocess_text)"
   ]
  },
  {
   "cell_type": "code",
   "execution_count": 19,
   "id": "281f2f2a",
   "metadata": {
    "scrolled": true
   },
   "outputs": [
    {
     "name": "stderr",
     "output_type": "stream",
     "text": [
      "/var/folders/q9/xv78pns927j7d3231txmz7dm0000gn/T/ipykernel_1321/3069878349.py:3: FutureWarning: The series.append method is deprecated and will be removed from pandas in a future version. Use pandas.concat instead.\n",
      "  vectorizer = TfidfVectorizer().fit(ltable['title'].append(rtable['title']))\n"
     ]
    }
   ],
   "source": [
    "# Step 3: Feature Engineering\n",
    "# Cosine similarity on 'title' using TF-IDF\n",
    "vectorizer = TfidfVectorizer().fit(ltable['title'].append(rtable['title']))\n",
    "ltable_title_vec = vectorizer.transform(ltable['title'])\n",
    "rtable_title_vec = vectorizer.transform(rtable['title'])\n",
    "\n",
    "# Merge the training set with ltable and rtable to get features\n",
    "train = train_data.merge(ltable, on='ltable_id').merge(rtable, on='rtable_id', suffixes=('_l', '_r'))\n",
    "test = test_data.merge(ltable, on='ltable_id').merge(rtable, on='rtable_id', suffixes=('_l', '_r'))\n",
    "\n",
    "# Calculate cosine similarity for 'title'\n",
    "train['title_cosine_sim'] = [cosine_similarity(ltable_title_vec[i], rtable_title_vec[j])[0][0]\n",
    "                             for i, j in zip(train['ltable_id'], train['rtable_id'])]\n",
    "test['title_cosine_sim'] = [cosine_similarity(ltable_title_vec[i], rtable_title_vec[j])[0][0]\n",
    "                            for i, j in zip(test['ltable_id'], test['rtable_id'])]"
   ]
  },
  {
   "cell_type": "code",
   "execution_count": 20,
   "id": "4a2f34d8",
   "metadata": {},
   "outputs": [
    {
     "name": "stderr",
     "output_type": "stream",
     "text": [
      "/var/folders/q9/xv78pns927j7d3231txmz7dm0000gn/T/ipykernel_1321/1302830493.py:3: FutureWarning: The series.append method is deprecated and will be removed from pandas in a future version. Use pandas.concat instead.\n",
      "  brand_vectorizer = TfidfVectorizer().fit(ltable['brand'].append(rtable['brand']))\n",
      "/var/folders/q9/xv78pns927j7d3231txmz7dm0000gn/T/ipykernel_1321/1302830493.py:4: FutureWarning: The series.append method is deprecated and will be removed from pandas in a future version. Use pandas.concat instead.\n",
      "  category_vectorizer = TfidfVectorizer().fit(ltable['category'].append(rtable['category']))\n"
     ]
    }
   ],
   "source": [
    "# Step 1: Vectorize 'brand' and 'category' attributes\n",
    "# Combine brand and category fields from both tables to fit the vectorizer\n",
    "brand_vectorizer = TfidfVectorizer().fit(ltable['brand'].append(rtable['brand']))\n",
    "category_vectorizer = TfidfVectorizer().fit(ltable['category'].append(rtable['category']))\n",
    "\n",
    "# Transform the brand and category columns in both tables\n",
    "ltable_brand_vec = brand_vectorizer.transform(ltable['brand'])\n",
    "rtable_brand_vec = brand_vectorizer.transform(rtable['brand'])\n",
    "ltable_category_vec = category_vectorizer.transform(ltable['category'])\n",
    "rtable_category_vec = category_vectorizer.transform(rtable['category'])\n",
    "\n",
    "# Step 2: Calculate similarity for each pair in train and test\n",
    "# Create dictionaries to map each ltable and rtable ID to the corresponding vector index\n",
    "ltable_id_to_index = {id: idx for idx, id in enumerate(ltable['ltable_id'])}\n",
    "rtable_id_to_index = {id: idx for idx, id in enumerate(rtable['rtable_id'])}\n",
    "\n",
    "# Define a function to get cosine similarity given ltable and rtable IDs\n",
    "def get_cosine_similarity(ltable_id, rtable_id, ltable_vec, rtable_vec):\n",
    "    l_idx = ltable_id_to_index[ltable_id]\n",
    "    r_idx = rtable_id_to_index[rtable_id]\n",
    "    return cosine_similarity(ltable_vec[l_idx], rtable_vec[r_idx])[0][0]\n",
    "\n",
    "# Calculate brand and category cosine similarity for train and test\n",
    "train['brand_cosine_sim'] = [\n",
    "    get_cosine_similarity(lid, rid, ltable_brand_vec, rtable_brand_vec)\n",
    "    for lid, rid in zip(train['ltable_id'], train['rtable_id'])\n",
    "]\n",
    "test['brand_cosine_sim'] = [\n",
    "    get_cosine_similarity(lid, rid, ltable_brand_vec, rtable_brand_vec)\n",
    "    for lid, rid in zip(test['ltable_id'], test['rtable_id'])\n",
    "]\n",
    "\n",
    "train['category_cosine_sim'] = [\n",
    "    get_cosine_similarity(lid, rid, ltable_category_vec, rtable_category_vec)\n",
    "    for lid, rid in zip(train['ltable_id'], train['rtable_id'])\n",
    "]\n",
    "test['category_cosine_sim'] = [\n",
    "    get_cosine_similarity(lid, rid, ltable_category_vec, rtable_category_vec)\n",
    "    for lid, rid in zip(test['ltable_id'], test['rtable_id'])\n",
    "]"
   ]
  },
  {
   "cell_type": "code",
   "execution_count": 21,
   "id": "91bc6b73",
   "metadata": {},
   "outputs": [],
   "source": [
    "# Update feature columns\n",
    "feature_columns = ['title_cosine_sim', 'brand_cosine_sim', 'category_cosine_sim']\n",
    "X_train = train[feature_columns]\n",
    "y_train = train['label']  # Ground truth labels are only available in train data\n",
    "X_test = test[feature_columns]"
   ]
  },
  {
   "cell_type": "code",
   "execution_count": 22,
   "id": "573df67b",
   "metadata": {},
   "outputs": [
    {
     "data": {
      "text/plain": [
       "RandomForestClassifier(random_state=42)"
      ]
     },
     "execution_count": 22,
     "metadata": {},
     "output_type": "execute_result"
    }
   ],
   "source": [
    "# Step 5: Train the Model\n",
    "model = RandomForestClassifier(random_state=42)\n",
    "model.fit(X_train, y_train)"
   ]
  },
  {
   "cell_type": "code",
   "execution_count": 23,
   "id": "06f3ab70",
   "metadata": {},
   "outputs": [
    {
     "name": "stdout",
     "output_type": "stream",
     "text": [
      "Predictions saved to 'test_predictions.csv'\n"
     ]
    }
   ],
   "source": [
    "# Step 6: Make Predictions on the Test Set\n",
    "test['label'] = model.predict(X_test)\n",
    "test = test.sort_values(by=['id'])\n",
    "# Save predictions to a CSV file in the format expected for submission\n",
    "test[['id', 'label']].to_csv('test_predictions.csv', index=False)\n",
    "print(\"Predictions saved to 'test_predictions.csv'\")"
   ]
  },
  {
   "cell_type": "code",
   "execution_count": null,
   "id": "80d02986",
   "metadata": {},
   "outputs": [],
   "source": []
  }
 ],
 "metadata": {
  "kernelspec": {
   "display_name": "Python 3 (ipykernel)",
   "language": "python",
   "name": "python3"
  },
  "language_info": {
   "codemirror_mode": {
    "name": "ipython",
    "version": 3
   },
   "file_extension": ".py",
   "mimetype": "text/x-python",
   "name": "python",
   "nbconvert_exporter": "python",
   "pygments_lexer": "ipython3",
   "version": "3.9.12"
  }
 },
 "nbformat": 4,
 "nbformat_minor": 5
}
